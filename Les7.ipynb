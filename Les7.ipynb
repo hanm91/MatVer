{
 "cells": [
  {
   "cell_type": "code",
   "execution_count": 2,
   "metadata": {},
   "outputs": [],
   "source": [
    "import numpy as np\n",
    "import pandas as pd"
   ]
  },
  {
   "cell_type": "markdown",
   "metadata": {},
   "source": [
    "# 1"
   ]
  },
  {
   "cell_type": "markdown",
   "metadata": {},
   "source": [
    "Даны значения величины заработной платы заемщиков банка (zp) и значения их поведенческого кредитного скоринга (ks): zp = [35, 45, 190, 200, 40, 70, 54, 150, 120, 110], ks = [401, 574, 874, 919, 459, 739, 653, 902, 746, 832]. Используя математические операции, посчитать коэффициенты линейной регрессии, приняв за X заработную плату (то есть, zp - признак), а за y - значения скорингового балла (то есть, ks - целевая переменная). Произвести расчет как с использованием intercept, так и без."
   ]
  },
  {
   "cell_type": "code",
   "execution_count": 3,
   "metadata": {},
   "outputs": [],
   "source": [
    "zp = np.array([35, 45, 190, 200, 40, 70, 54, 150, 120, 110])\n",
    "ks = np.array([401, 574, 874, 919, 459, 739, 653, 902, 746, 832])"
   ]
  },
  {
   "cell_type": "markdown",
   "metadata": {},
   "source": [
    "с использованием intercept"
   ]
  },
  {
   "cell_type": "code",
   "execution_count": 4,
   "metadata": {},
   "outputs": [
    {
     "data": {
      "text/plain": [
       "2.620538882402765"
      ]
     },
     "execution_count": 4,
     "metadata": {},
     "output_type": "execute_result"
    }
   ],
   "source": [
    "b = (np.mean(zp*ks) - np.mean(zp)*np.mean(ks)) / (np.mean(zp**2)-np.mean(zp)**2)\n",
    "b"
   ]
  },
  {
   "cell_type": "code",
   "execution_count": 5,
   "metadata": {},
   "outputs": [
    {
     "data": {
      "text/plain": [
       "444.1773573243596"
      ]
     },
     "execution_count": 5,
     "metadata": {},
     "output_type": "execute_result"
    }
   ],
   "source": [
    "a = np.mean(ks)-b*np.mean(zp)\n",
    "a"
   ]
  },
  {
   "cell_type": "code",
   "execution_count": null,
   "metadata": {},
   "outputs": [],
   "source": [
    "y_ = 444.18 + 2.62*x"
   ]
  },
  {
   "cell_type": "markdown",
   "metadata": {},
   "source": [
    "матричный способ"
   ]
  },
  {
   "cell_type": "code",
   "execution_count": 6,
   "metadata": {},
   "outputs": [
    {
     "data": {
      "text/plain": [
       "array([[ 35],\n",
       "       [ 45],\n",
       "       [190],\n",
       "       [200],\n",
       "       [ 40],\n",
       "       [ 70],\n",
       "       [ 54],\n",
       "       [150],\n",
       "       [120],\n",
       "       [110]])"
      ]
     },
     "execution_count": 6,
     "metadata": {},
     "output_type": "execute_result"
    }
   ],
   "source": [
    "zp1 = zp.reshape((10,1))\n",
    "zp1"
   ]
  },
  {
   "cell_type": "code",
   "execution_count": 7,
   "metadata": {},
   "outputs": [
    {
     "data": {
      "text/plain": [
       "array([[401],\n",
       "       [574],\n",
       "       [874],\n",
       "       [919],\n",
       "       [459],\n",
       "       [739],\n",
       "       [653],\n",
       "       [902],\n",
       "       [746],\n",
       "       [832]])"
      ]
     },
     "execution_count": 7,
     "metadata": {},
     "output_type": "execute_result"
    }
   ],
   "source": [
    "ks1 = ks.reshape((10,1 ))\n",
    "ks1"
   ]
  },
  {
   "cell_type": "code",
   "execution_count": 8,
   "metadata": {},
   "outputs": [],
   "source": [
    "zp1=np.hstack([np.ones((10,1)), zp1])"
   ]
  },
  {
   "cell_type": "code",
   "execution_count": 9,
   "metadata": {},
   "outputs": [
    {
     "data": {
      "text/plain": [
       "array([[  1.,  35.],\n",
       "       [  1.,  45.],\n",
       "       [  1., 190.],\n",
       "       [  1., 200.],\n",
       "       [  1.,  40.],\n",
       "       [  1.,  70.],\n",
       "       [  1.,  54.],\n",
       "       [  1., 150.],\n",
       "       [  1., 120.],\n",
       "       [  1., 110.]])"
      ]
     },
     "execution_count": 9,
     "metadata": {},
     "output_type": "execute_result"
    }
   ],
   "source": [
    "zp1"
   ]
  },
  {
   "cell_type": "code",
   "execution_count": 10,
   "metadata": {},
   "outputs": [],
   "source": [
    "b1 = np.dot(np.linalg.inv(np.dot(zp1.T,zp1)),zp1.T@ks1)"
   ]
  },
  {
   "cell_type": "code",
   "execution_count": 11,
   "metadata": {},
   "outputs": [
    {
     "data": {
      "text/plain": [
       "array([[444.17735732],\n",
       "       [  2.62053888]])"
      ]
     },
     "execution_count": 11,
     "metadata": {},
     "output_type": "execute_result"
    }
   ],
   "source": [
    "b1"
   ]
  },
  {
   "cell_type": "code",
   "execution_count": null,
   "metadata": {},
   "outputs": [],
   "source": [
    "y = 444.18 + 2.62*x"
   ]
  },
  {
   "cell_type": "markdown",
   "metadata": {},
   "source": [
    "без использования intercept"
   ]
  },
  {
   "cell_type": "code",
   "execution_count": 12,
   "metadata": {},
   "outputs": [
    {
     "data": {
      "text/plain": [
       "array([[ 35],\n",
       "       [ 45],\n",
       "       [190],\n",
       "       [200],\n",
       "       [ 40],\n",
       "       [ 70],\n",
       "       [ 54],\n",
       "       [150],\n",
       "       [120],\n",
       "       [110]])"
      ]
     },
     "execution_count": 12,
     "metadata": {},
     "output_type": "execute_result"
    }
   ],
   "source": [
    "zp2 = zp.reshape((10,1))\n",
    "zp2"
   ]
  },
  {
   "cell_type": "code",
   "execution_count": 13,
   "metadata": {},
   "outputs": [
    {
     "data": {
      "text/plain": [
       "array([[401],\n",
       "       [574],\n",
       "       [874],\n",
       "       [919],\n",
       "       [459],\n",
       "       [739],\n",
       "       [653],\n",
       "       [902],\n",
       "       [746],\n",
       "       [832]])"
      ]
     },
     "execution_count": 13,
     "metadata": {},
     "output_type": "execute_result"
    }
   ],
   "source": [
    "ks1 = ks.reshape((10,1 ))\n",
    "ks1"
   ]
  },
  {
   "cell_type": "code",
   "execution_count": 18,
   "metadata": {},
   "outputs": [
    {
     "data": {
      "text/plain": [
       "array([[5.88982042]])"
      ]
     },
     "execution_count": 18,
     "metadata": {},
     "output_type": "execute_result"
    }
   ],
   "source": [
    "b2 = np.dot(np.linalg.inv(np.dot(zp2.T,zp2)),zp2.T@ks1)\n",
    "b2"
   ]
  },
  {
   "cell_type": "code",
   "execution_count": null,
   "metadata": {},
   "outputs": [],
   "source": [
    "ks = 5.89*zp"
   ]
  },
  {
   "cell_type": "markdown",
   "metadata": {},
   "source": [
    "# 2"
   ]
  },
  {
   "cell_type": "markdown",
   "metadata": {},
   "source": [
    "Посчитать коэффициент линейной регрессии при заработной плате (zp), используя градиентный спуск (без intercept)."
   ]
  },
  {
   "cell_type": "code",
   "execution_count": 34,
   "metadata": {},
   "outputs": [],
   "source": [
    "def mse_(B1, y = ks, x = zp, n = 10):\n",
    "    return np.sum((B1*x - y)**2) /n"
   ]
  },
  {
   "cell_type": "code",
   "execution_count": 35,
   "metadata": {},
   "outputs": [
    {
     "data": {
      "text/plain": [
       "1e-06"
      ]
     },
     "execution_count": 35,
     "metadata": {},
     "output_type": "execute_result"
    }
   ],
   "source": [
    "alpha = 1e-6\n",
    "alpha"
   ]
  },
  {
   "cell_type": "code",
   "execution_count": 36,
   "metadata": {},
   "outputs": [],
   "source": [
    "B1=0.1"
   ]
  },
  {
   "cell_type": "code",
   "execution_count": 37,
   "metadata": {},
   "outputs": [],
   "source": [
    "n=10"
   ]
  },
  {
   "cell_type": "code",
   "execution_count": 45,
   "metadata": {},
   "outputs": [
    {
     "name": "stdout",
     "output_type": "stream",
     "text": [
      "B1 = 5.889820420132673, i = 0, mse = 56516.86\n",
      "B1 = 5.889820420132673, i = 10, mse = 56516.86\n",
      "B1 = 5.889820420132673, i = 20, mse = 56516.86\n",
      "B1 = 5.889820420132673, i = 30, mse = 56516.86\n",
      "B1 = 5.889820420132673, i = 40, mse = 56516.86\n",
      "B1 = 5.889820420132673, i = 50, mse = 56516.86\n",
      "B1 = 5.889820420132673, i = 60, mse = 56516.86\n",
      "B1 = 5.889820420132673, i = 70, mse = 56516.86\n",
      "B1 = 5.889820420132673, i = 80, mse = 56516.86\n",
      "B1 = 5.889820420132673, i = 90, mse = 56516.86\n"
     ]
    }
   ],
   "source": [
    "for i in range(100):\n",
    "    B1 -= alpha * (2/n) * np.sum((B1 * zp - ks) *zp)\n",
    "    if i%10 == 0:\n",
    "        print(f'B1 = {B1}, i = {i}, mse = {mse_(B1):.2f}')"
   ]
  },
  {
   "cell_type": "markdown",
   "metadata": {},
   "source": [
    "# 3"
   ]
  },
  {
   "cell_type": "markdown",
   "metadata": {},
   "source": [
    "В каких случаях для вычисления доверительных интервалов и проверки статистических гипотез используется таблица значений функции Лапласа, а в каких - таблица критических точек распределения Стьюдента? "
   ]
  },
  {
   "cell_type": "markdown",
   "metadata": {},
   "source": [
    "Таблица критических точек распределения Стьюдента применается когда неизвесто матеатическое ожидание и дисперсия генеральной совокупности, но мы знаем что величины распередены нормально.\n",
    "\n",
    "Таблица значений функции Лапласа применяется для случаев когда мы знаем среднее и дисперсию генеральной совокупности и величины распеределены нормально."
   ]
  }
 ],
 "metadata": {
  "kernelspec": {
   "display_name": "Python 3",
   "language": "python",
   "name": "python3"
  },
  "language_info": {
   "codemirror_mode": {
    "name": "ipython",
    "version": 3
   },
   "file_extension": ".py",
   "mimetype": "text/x-python",
   "name": "python",
   "nbconvert_exporter": "python",
   "pygments_lexer": "ipython3",
   "version": "3.7.4"
  }
 },
 "nbformat": 4,
 "nbformat_minor": 2
}
